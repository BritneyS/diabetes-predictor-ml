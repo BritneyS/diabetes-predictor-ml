{
 "cells": [
  {
   "cell_type": "markdown",
   "id": "2c466788-6eed-4c81-baf6-e46dffba24b8",
   "metadata": {},
   "source": [
    "# Predicting the development of diabetes using machine learning\n",
    "\n",
    "## Goal\n",
    "\n",
    "My goal is to use sample data to train a model that can predict the probability of the development of diabetes in new patients. The data will be gathered and cleaned, then used to train the model using the supervised learning algorithm: logistic regression.\n",
    "\n",
    "## Project\n",
    "\n",
    "### The data\n",
    "\n",
    "The dataset contains the following features:\n",
    "\n",
    "- Age: The patient's age, in years.\n",
    "- Gender: The patient's gender, male or female.\n",
    "- BMI: The patient's body mass index (BMI), a measure of weight relative to height.\n",
    "- Blood pressure: The patient's blood pressure, in mmHg.\n",
    "- Fasting Blood Sugar: The patient's fasting blood sugar, in mg/dL.\n",
    "- Hemoglobin A1c: The patient's hemoglobin A1c, a measure of blood sugar control over the past 3 months.\n",
    "- Family history of diabetes: Whether the patient has a family history of diabetes.\n",
    "- Smoking: Whether the patient smokes.\n",
    "- Diet: Whether the patient has a poor or healthy diet.\n",
    "- Exercise: Whether the patient exercises regularly.\n",
    "- Diagnosis: The patient's diagnosis, either diabetes or no diabetes.\n"
   ]
  },
  {
   "cell_type": "code",
   "execution_count": 101,
   "id": "5edc3d55-a149-483a-a757-ba3ae9c45065",
   "metadata": {},
   "outputs": [
    {
     "data": {
      "text/html": [
       "<div>\n",
       "<style scoped>\n",
       "    .dataframe tbody tr th:only-of-type {\n",
       "        vertical-align: middle;\n",
       "    }\n",
       "\n",
       "    .dataframe tbody tr th {\n",
       "        vertical-align: top;\n",
       "    }\n",
       "\n",
       "    .dataframe thead th {\n",
       "        text-align: right;\n",
       "    }\n",
       "</style>\n",
       "<table border=\"1\" class=\"dataframe\">\n",
       "  <thead>\n",
       "    <tr style=\"text-align: right;\">\n",
       "      <th></th>\n",
       "      <th>age</th>\n",
       "      <th>gender</th>\n",
       "      <th>bmi</th>\n",
       "      <th>blood_pressure</th>\n",
       "      <th>fasting_blood_sugar</th>\n",
       "      <th>hemoglobin_a1c</th>\n",
       "      <th>family_history_of_diabetes</th>\n",
       "      <th>smoking</th>\n",
       "      <th>diet</th>\n",
       "      <th>exercise</th>\n",
       "      <th>diagnosis</th>\n",
       "    </tr>\n",
       "  </thead>\n",
       "  <tbody>\n",
       "    <tr>\n",
       "      <th>0</th>\n",
       "      <td>45</td>\n",
       "      <td>Male</td>\n",
       "      <td>25</td>\n",
       "      <td>Normal</td>\n",
       "      <td>100</td>\n",
       "      <td>5.7</td>\n",
       "      <td>No</td>\n",
       "      <td>No</td>\n",
       "      <td>Healthy</td>\n",
       "      <td>Regular</td>\n",
       "      <td>No</td>\n",
       "    </tr>\n",
       "    <tr>\n",
       "      <th>1</th>\n",
       "      <td>55</td>\n",
       "      <td>Female</td>\n",
       "      <td>30</td>\n",
       "      <td>High</td>\n",
       "      <td>120</td>\n",
       "      <td>6.4</td>\n",
       "      <td>Yes</td>\n",
       "      <td>Yes</td>\n",
       "      <td>Poor</td>\n",
       "      <td>No</td>\n",
       "      <td>Yes</td>\n",
       "    </tr>\n",
       "    <tr>\n",
       "      <th>2</th>\n",
       "      <td>65</td>\n",
       "      <td>Male</td>\n",
       "      <td>35</td>\n",
       "      <td>High</td>\n",
       "      <td>140</td>\n",
       "      <td>7.1</td>\n",
       "      <td>Yes</td>\n",
       "      <td>Yes</td>\n",
       "      <td>Poor</td>\n",
       "      <td>No</td>\n",
       "      <td>Yes</td>\n",
       "    </tr>\n",
       "    <tr>\n",
       "      <th>3</th>\n",
       "      <td>75</td>\n",
       "      <td>Female</td>\n",
       "      <td>40</td>\n",
       "      <td>High</td>\n",
       "      <td>160</td>\n",
       "      <td>7.8</td>\n",
       "      <td>Yes</td>\n",
       "      <td>Yes</td>\n",
       "      <td>Poor</td>\n",
       "      <td>No</td>\n",
       "      <td>Yes</td>\n",
       "    </tr>\n",
       "    <tr>\n",
       "      <th>4</th>\n",
       "      <td>40</td>\n",
       "      <td>Male</td>\n",
       "      <td>20</td>\n",
       "      <td>Normal</td>\n",
       "      <td>80</td>\n",
       "      <td>5.0</td>\n",
       "      <td>No</td>\n",
       "      <td>No</td>\n",
       "      <td>Healthy</td>\n",
       "      <td>Regular</td>\n",
       "      <td>No</td>\n",
       "    </tr>\n",
       "  </tbody>\n",
       "</table>\n",
       "</div>"
      ],
      "text/plain": [
       "   age  gender  bmi blood_pressure  fasting_blood_sugar  hemoglobin_a1c  \\\n",
       "0   45    Male   25         Normal                  100             5.7   \n",
       "1   55  Female   30           High                  120             6.4   \n",
       "2   65    Male   35           High                  140             7.1   \n",
       "3   75  Female   40           High                  160             7.8   \n",
       "4   40    Male   20         Normal                   80             5.0   \n",
       "\n",
       "  family_history_of_diabetes smoking     diet exercise diagnosis  \n",
       "0                         No      No  Healthy  Regular        No  \n",
       "1                        Yes     Yes     Poor       No       Yes  \n",
       "2                        Yes     Yes     Poor       No       Yes  \n",
       "3                        Yes     Yes     Poor       No       Yes  \n",
       "4                         No      No  Healthy  Regular        No  "
      ]
     },
     "execution_count": 101,
     "metadata": {},
     "output_type": "execute_result"
    }
   ],
   "source": [
    "import pandas as pd\n",
    "\n",
    "file_path = 'diabetes-classification-cleaned.csv'\n",
    "\n",
    "# Creating a DataFrame from the CSV file\n",
    "data_frame = pd.read_csv(file_path)\n",
    "\n",
    "# Displaying the first few rows of the DataFrame\n",
    "data_frame.head()"
   ]
  },
  {
   "cell_type": "markdown",
   "id": "09c60897-8dfe-4b10-9333-e8a2af238e6b",
   "metadata": {},
   "source": [
    "The test data must be separated into test data and training data. The training data will be used to train the machine learning model to make predictions, then the test data will be used to exercise the model."
   ]
  },
  {
   "cell_type": "code",
   "execution_count": 102,
   "id": "dd40f83d-1e59-4cce-a3fb-2872d73a4ec4",
   "metadata": {},
   "outputs": [
    {
     "name": "stdout",
     "output_type": "stream",
     "text": [
      "Feature columns: ['age', 'gender', 'bmi', 'blood_pressure', 'fasting_blood_sugar', 'hemoglobin_a1c', 'family_history_of_diabetes', 'smoking', 'diet', 'exercise']\n"
     ]
    }
   ],
   "source": [
    "columns = data_frame.columns.values.tolist()\n",
    "feature_columns = [col for col in columns if col != 'diagnosis']\n",
    "\n",
    "# Displaying the applicable feature columns\n",
    "print(\"Feature columns:\", feature_columns)"
   ]
  },
  {
   "cell_type": "code",
   "execution_count": 103,
   "id": "9ad0d9ff-7698-4f7b-a45c-339e0d5cff64",
   "metadata": {},
   "outputs": [
    {
     "name": "stdout",
     "output_type": "stream",
     "text": [
      "Features:\n",
      "     age  gender  bmi blood_pressure  fasting_blood_sugar  hemoglobin_a1c  \\\n",
      "0     45    Male   25         Normal                  100             5.7   \n",
      "1     55  Female   30           High                  120             6.4   \n",
      "2     65    Male   35           High                  140             7.1   \n",
      "3     75  Female   40           High                  160             7.8   \n",
      "4     40    Male   20         Normal                   80             5.0   \n",
      "..   ...     ...  ...            ...                  ...             ...   \n",
      "123   17  Female   15         Normal                  100             5.7   \n",
      "124   22    Male   19         Normal                  120             6.4   \n",
      "125   27  Female   24           High                  140             7.1   \n",
      "126   32    Male   29           High                  160             7.8   \n",
      "127   37  Female   34           High                  180             8.5   \n",
      "\n",
      "    family_history_of_diabetes smoking     diet exercise  \n",
      "0                           No      No  Healthy  Regular  \n",
      "1                          Yes     Yes     Poor       No  \n",
      "2                          Yes     Yes     Poor       No  \n",
      "3                          Yes     Yes     Poor       No  \n",
      "4                           No      No  Healthy  Regular  \n",
      "..                         ...     ...      ...      ...  \n",
      "123                         No     Yes     Poor       No  \n",
      "124                         No     Yes     Poor       No  \n",
      "125                         No     Yes     Poor       No  \n",
      "126                         No     Yes     Poor       No  \n",
      "127                         No     Yes     Poor       No  \n",
      "\n",
      "[128 rows x 10 columns]\n",
      "Target Variable:\n",
      "0       No\n",
      "1      Yes\n",
      "2      Yes\n",
      "3      Yes\n",
      "4       No\n",
      "      ... \n",
      "123    Yes\n",
      "124    Yes\n",
      "125    Yes\n",
      "126    Yes\n",
      "127    Yes\n",
      "Name: diagnosis, Length: 128, dtype: object\n"
     ]
    }
   ],
   "source": [
    "# Distinguishing features from the target variable 'diagnosis'\n",
    "X = data_frame[feature_columns] # features\n",
    "y = data_frame.diagnosis # target variable\n",
    "print(\"Features:\", end='\\n')\n",
    "print(X, end='\\n')\n",
    "print(\"Target Variable:\", end='\\n')\n",
    "print(y, end='\\n')"
   ]
  },
  {
   "cell_type": "code",
   "execution_count": 104,
   "id": "f5ab7c4c-e43a-4110-a846-37eb4193ba2f",
   "metadata": {},
   "outputs": [
    {
     "name": "stdout",
     "output_type": "stream",
     "text": [
      "Training Data Row Count: 96\n",
      "Test Data Row Count: 32\n"
     ]
    }
   ],
   "source": [
    "from sklearn.model_selection import train_test_split\n",
    "\n",
    "# Splitting data into training and test datasets \n",
    "X_train, X_test, y_train, y_test = train_test_split(X, y, test_size=0.25, random_state=7)\n",
    "print(\"Training Data Row Count:\", len(X_train), end='\\n')\n",
    "print(\"Test Data Row Count:\", len(X_test), end='\\n')"
   ]
  }
 ],
 "metadata": {
  "kernelspec": {
   "display_name": "Python 3 (ipykernel)",
   "language": "python",
   "name": "python3"
  },
  "language_info": {
   "codemirror_mode": {
    "name": "ipython",
    "version": 3
   },
   "file_extension": ".py",
   "mimetype": "text/x-python",
   "name": "python",
   "nbconvert_exporter": "python",
   "pygments_lexer": "ipython3",
   "version": "3.11.5"
  }
 },
 "nbformat": 4,
 "nbformat_minor": 5
}
