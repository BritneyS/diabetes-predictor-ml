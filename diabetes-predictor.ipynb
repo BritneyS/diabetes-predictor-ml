{
 "cells": [
  {
   "cell_type": "markdown",
   "id": "2c466788-6eed-4c81-baf6-e46dffba24b8",
   "metadata": {},
   "source": [
    "# Predicting the development of diabetes using machine learning\n",
    "\n",
    "## Goal\n",
    "\n",
    "My goal is to use sample data to train a model that can predict the probability of the development of diabetes in new patients. The data will be gathered and cleaned, then used to train the model using the supervised learning algorithm: logistic regression.\n",
    "\n",
    "## Project\n",
    "\n",
    "### The data\n",
    "\n",
    "The dataset contains the following features:\n",
    "\n",
    "- Age: The patient's age, in years.\n",
    "- Gender: The patient's gender, male or female.\n",
    "- BMI: The patient's body mass index (BMI), a measure of weight relative to height.\n",
    "- Blood pressure: The patient's blood pressure, in mmHg.\n",
    "- Fasting Blood Sugar: The patient's fasting blood sugar, in mg/dL.\n",
    "- Hemoglobin A1c: The patient's hemoglobin A1c, a measure of blood sugar control over the past 3 months.\n",
    "- Family history of diabetes: Whether the patient has a family history of diabetes.\n",
    "- Smoking: Whether the patient smokes.\n",
    "- Diet: Whether the patient has a poor or healthy diet.\n",
    "- Exercise: Whether the patient exercises regularly.\n",
    "- Diagnosis: The patient's diagnosis, either diabetes or no diabetes.\n"
   ]
  },
  {
   "cell_type": "code",
   "execution_count": 105,
   "id": "5edc3d55-a149-483a-a757-ba3ae9c45065",
   "metadata": {},
   "outputs": [
    {
     "data": {
      "text/html": [
       "<div>\n",
       "<style scoped>\n",
       "    .dataframe tbody tr th:only-of-type {\n",
       "        vertical-align: middle;\n",
       "    }\n",
       "\n",
       "    .dataframe tbody tr th {\n",
       "        vertical-align: top;\n",
       "    }\n",
       "\n",
       "    .dataframe thead th {\n",
       "        text-align: right;\n",
       "    }\n",
       "</style>\n",
       "<table border=\"1\" class=\"dataframe\">\n",
       "  <thead>\n",
       "    <tr style=\"text-align: right;\">\n",
       "      <th></th>\n",
       "      <th>age</th>\n",
       "      <th>gender</th>\n",
       "      <th>bmi</th>\n",
       "      <th>blood_pressure</th>\n",
       "      <th>fasting_blood_sugar</th>\n",
       "      <th>hemoglobin_a1c</th>\n",
       "      <th>family_history_of_diabetes</th>\n",
       "      <th>smoking</th>\n",
       "      <th>diet</th>\n",
       "      <th>exercise</th>\n",
       "      <th>diagnosis</th>\n",
       "    </tr>\n",
       "  </thead>\n",
       "  <tbody>\n",
       "    <tr>\n",
       "      <th>0</th>\n",
       "      <td>45</td>\n",
       "      <td>Male</td>\n",
       "      <td>25</td>\n",
       "      <td>Normal</td>\n",
       "      <td>100</td>\n",
       "      <td>5.7</td>\n",
       "      <td>No</td>\n",
       "      <td>No</td>\n",
       "      <td>Healthy</td>\n",
       "      <td>Regular</td>\n",
       "      <td>No</td>\n",
       "    </tr>\n",
       "    <tr>\n",
       "      <th>1</th>\n",
       "      <td>55</td>\n",
       "      <td>Female</td>\n",
       "      <td>30</td>\n",
       "      <td>High</td>\n",
       "      <td>120</td>\n",
       "      <td>6.4</td>\n",
       "      <td>Yes</td>\n",
       "      <td>Yes</td>\n",
       "      <td>Poor</td>\n",
       "      <td>No</td>\n",
       "      <td>Yes</td>\n",
       "    </tr>\n",
       "    <tr>\n",
       "      <th>2</th>\n",
       "      <td>65</td>\n",
       "      <td>Male</td>\n",
       "      <td>35</td>\n",
       "      <td>High</td>\n",
       "      <td>140</td>\n",
       "      <td>7.1</td>\n",
       "      <td>Yes</td>\n",
       "      <td>Yes</td>\n",
       "      <td>Poor</td>\n",
       "      <td>No</td>\n",
       "      <td>Yes</td>\n",
       "    </tr>\n",
       "    <tr>\n",
       "      <th>3</th>\n",
       "      <td>75</td>\n",
       "      <td>Female</td>\n",
       "      <td>40</td>\n",
       "      <td>High</td>\n",
       "      <td>160</td>\n",
       "      <td>7.8</td>\n",
       "      <td>Yes</td>\n",
       "      <td>Yes</td>\n",
       "      <td>Poor</td>\n",
       "      <td>No</td>\n",
       "      <td>Yes</td>\n",
       "    </tr>\n",
       "    <tr>\n",
       "      <th>4</th>\n",
       "      <td>40</td>\n",
       "      <td>Male</td>\n",
       "      <td>20</td>\n",
       "      <td>Normal</td>\n",
       "      <td>80</td>\n",
       "      <td>5.0</td>\n",
       "      <td>No</td>\n",
       "      <td>No</td>\n",
       "      <td>Healthy</td>\n",
       "      <td>Regular</td>\n",
       "      <td>No</td>\n",
       "    </tr>\n",
       "  </tbody>\n",
       "</table>\n",
       "</div>"
      ],
      "text/plain": [
       "   age  gender  bmi blood_pressure  fasting_blood_sugar  hemoglobin_a1c  \\\n",
       "0   45    Male   25         Normal                  100             5.7   \n",
       "1   55  Female   30           High                  120             6.4   \n",
       "2   65    Male   35           High                  140             7.1   \n",
       "3   75  Female   40           High                  160             7.8   \n",
       "4   40    Male   20         Normal                   80             5.0   \n",
       "\n",
       "  family_history_of_diabetes smoking     diet exercise diagnosis  \n",
       "0                         No      No  Healthy  Regular        No  \n",
       "1                        Yes     Yes     Poor       No       Yes  \n",
       "2                        Yes     Yes     Poor       No       Yes  \n",
       "3                        Yes     Yes     Poor       No       Yes  \n",
       "4                         No      No  Healthy  Regular        No  "
      ]
     },
     "execution_count": 105,
     "metadata": {},
     "output_type": "execute_result"
    }
   ],
   "source": [
    "import pandas as pd\n",
    "\n",
    "file_path = 'diabetes-classification-cleaned.csv'\n",
    "\n",
    "# Creating a DataFrame from the CSV file\n",
    "data_frame = pd.read_csv(file_path)\n",
    "\n",
    "# Displaying the first few rows of the DataFrame\n",
    "data_frame.head()"
   ]
  },
  {
   "cell_type": "markdown",
   "id": "09c60897-8dfe-4b10-9333-e8a2af238e6b",
   "metadata": {},
   "source": [
    "The test data must be separated into test data and training data. The training data will be used to train the machine learning model to make predictions, then the test data will be used to exercise the model."
   ]
  },
  {
   "cell_type": "code",
   "execution_count": 106,
   "id": "dd40f83d-1e59-4cce-a3fb-2872d73a4ec4",
   "metadata": {},
   "outputs": [
    {
     "name": "stdout",
     "output_type": "stream",
     "text": [
      "Feature columns: ['age', 'gender', 'bmi', 'blood_pressure', 'fasting_blood_sugar', 'hemoglobin_a1c', 'family_history_of_diabetes', 'smoking', 'diet', 'exercise']\n"
     ]
    }
   ],
   "source": [
    "columns = data_frame.columns.values.tolist()\n",
    "feature_columns = [col for col in columns if col != 'diagnosis']\n",
    "\n",
    "# Displaying the applicable feature columns\n",
    "print(\"Feature columns:\", feature_columns)"
   ]
  },
  {
   "cell_type": "code",
   "execution_count": 107,
   "id": "9ad0d9ff-7698-4f7b-a45c-339e0d5cff64",
   "metadata": {},
   "outputs": [
    {
     "name": "stdout",
     "output_type": "stream",
     "text": [
      "Features:\n",
      "     age  gender  bmi blood_pressure  fasting_blood_sugar  hemoglobin_a1c  \\\n",
      "0     45    Male   25         Normal                  100             5.7   \n",
      "1     55  Female   30           High                  120             6.4   \n",
      "2     65    Male   35           High                  140             7.1   \n",
      "3     75  Female   40           High                  160             7.8   \n",
      "4     40    Male   20         Normal                   80             5.0   \n",
      "..   ...     ...  ...            ...                  ...             ...   \n",
      "123   17  Female   15         Normal                  100             5.7   \n",
      "124   22    Male   19         Normal                  120             6.4   \n",
      "125   27  Female   24           High                  140             7.1   \n",
      "126   32    Male   29           High                  160             7.8   \n",
      "127   37  Female   34           High                  180             8.5   \n",
      "\n",
      "    family_history_of_diabetes smoking     diet exercise  \n",
      "0                           No      No  Healthy  Regular  \n",
      "1                          Yes     Yes     Poor       No  \n",
      "2                          Yes     Yes     Poor       No  \n",
      "3                          Yes     Yes     Poor       No  \n",
      "4                           No      No  Healthy  Regular  \n",
      "..                         ...     ...      ...      ...  \n",
      "123                         No     Yes     Poor       No  \n",
      "124                         No     Yes     Poor       No  \n",
      "125                         No     Yes     Poor       No  \n",
      "126                         No     Yes     Poor       No  \n",
      "127                         No     Yes     Poor       No  \n",
      "\n",
      "[128 rows x 10 columns]\n",
      "Target Variable:\n",
      "0       No\n",
      "1      Yes\n",
      "2      Yes\n",
      "3      Yes\n",
      "4       No\n",
      "      ... \n",
      "123    Yes\n",
      "124    Yes\n",
      "125    Yes\n",
      "126    Yes\n",
      "127    Yes\n",
      "Name: diagnosis, Length: 128, dtype: object\n"
     ]
    }
   ],
   "source": [
    "# Distinguishing features from the target variable 'diagnosis'\n",
    "X_variables = data_frame[feature_columns] # features\n",
    "y_variable = data_frame.diagnosis # target variable\n",
    "print(\"Features:\", end='\\n')\n",
    "print(X_variables, end='\\n')\n",
    "print(\"Target Variable:\", end='\\n')\n",
    "print(y_variable, end='\\n')"
   ]
  },
  {
   "cell_type": "code",
   "execution_count": 108,
   "id": "6a8483aa-a78e-4efb-9897-6e6a6a0d8b7d",
   "metadata": {},
   "outputs": [
    {
     "data": {
      "text/html": [
       "<div>\n",
       "<style scoped>\n",
       "    .dataframe tbody tr th:only-of-type {\n",
       "        vertical-align: middle;\n",
       "    }\n",
       "\n",
       "    .dataframe tbody tr th {\n",
       "        vertical-align: top;\n",
       "    }\n",
       "\n",
       "    .dataframe thead th {\n",
       "        text-align: right;\n",
       "    }\n",
       "</style>\n",
       "<table border=\"1\" class=\"dataframe\">\n",
       "  <thead>\n",
       "    <tr style=\"text-align: right;\">\n",
       "      <th></th>\n",
       "      <th>age</th>\n",
       "      <th>gender</th>\n",
       "      <th>bmi</th>\n",
       "      <th>blood_pressure</th>\n",
       "      <th>fasting_blood_sugar</th>\n",
       "      <th>hemoglobin_a1c</th>\n",
       "      <th>family_history_of_diabetes</th>\n",
       "      <th>smoking</th>\n",
       "      <th>diet</th>\n",
       "      <th>exercise</th>\n",
       "      <th>diagnosis</th>\n",
       "    </tr>\n",
       "  </thead>\n",
       "  <tbody>\n",
       "    <tr>\n",
       "      <th>0</th>\n",
       "      <td>45</td>\n",
       "      <td>1</td>\n",
       "      <td>25</td>\n",
       "      <td>2</td>\n",
       "      <td>100</td>\n",
       "      <td>5.7</td>\n",
       "      <td>0</td>\n",
       "      <td>0</td>\n",
       "      <td>0</td>\n",
       "      <td>1</td>\n",
       "      <td>0</td>\n",
       "    </tr>\n",
       "    <tr>\n",
       "      <th>1</th>\n",
       "      <td>55</td>\n",
       "      <td>0</td>\n",
       "      <td>30</td>\n",
       "      <td>0</td>\n",
       "      <td>120</td>\n",
       "      <td>6.4</td>\n",
       "      <td>1</td>\n",
       "      <td>1</td>\n",
       "      <td>1</td>\n",
       "      <td>0</td>\n",
       "      <td>1</td>\n",
       "    </tr>\n",
       "    <tr>\n",
       "      <th>2</th>\n",
       "      <td>65</td>\n",
       "      <td>1</td>\n",
       "      <td>35</td>\n",
       "      <td>0</td>\n",
       "      <td>140</td>\n",
       "      <td>7.1</td>\n",
       "      <td>1</td>\n",
       "      <td>1</td>\n",
       "      <td>1</td>\n",
       "      <td>0</td>\n",
       "      <td>1</td>\n",
       "    </tr>\n",
       "    <tr>\n",
       "      <th>3</th>\n",
       "      <td>75</td>\n",
       "      <td>0</td>\n",
       "      <td>40</td>\n",
       "      <td>0</td>\n",
       "      <td>160</td>\n",
       "      <td>7.8</td>\n",
       "      <td>1</td>\n",
       "      <td>1</td>\n",
       "      <td>1</td>\n",
       "      <td>0</td>\n",
       "      <td>1</td>\n",
       "    </tr>\n",
       "    <tr>\n",
       "      <th>4</th>\n",
       "      <td>40</td>\n",
       "      <td>1</td>\n",
       "      <td>20</td>\n",
       "      <td>2</td>\n",
       "      <td>80</td>\n",
       "      <td>5.0</td>\n",
       "      <td>0</td>\n",
       "      <td>0</td>\n",
       "      <td>0</td>\n",
       "      <td>1</td>\n",
       "      <td>0</td>\n",
       "    </tr>\n",
       "  </tbody>\n",
       "</table>\n",
       "</div>"
      ],
      "text/plain": [
       "   age  gender  bmi  blood_pressure  fasting_blood_sugar  hemoglobin_a1c  \\\n",
       "0   45       1   25               2                  100             5.7   \n",
       "1   55       0   30               0                  120             6.4   \n",
       "2   65       1   35               0                  140             7.1   \n",
       "3   75       0   40               0                  160             7.8   \n",
       "4   40       1   20               2                   80             5.0   \n",
       "\n",
       "   family_history_of_diabetes  smoking  diet  exercise  diagnosis  \n",
       "0                           0        0     0         1          0  \n",
       "1                           1        1     1         0          1  \n",
       "2                           1        1     1         0          1  \n",
       "3                           1        1     1         0          1  \n",
       "4                           0        0     0         1          0  "
      ]
     },
     "execution_count": 108,
     "metadata": {},
     "output_type": "execute_result"
    }
   ],
   "source": [
    "# Some pre-processing must be done on String values in the dataset. For sklearn's LogisticRegression model,\n",
    "# String values must be encoded to a data type that can be converted to a floating point value, like an integer.\n",
    "\n",
    "from sklearn import preprocessing\n",
    "\n",
    "label_encoder = preprocessing.LabelEncoder()\n",
    "for column_name in data_frame.columns:\n",
    "    if data_frame[column_name].dtype == object:\n",
    "        data_frame[column_name] = label_encoder.fit_transform(data_frame[column_name])\n",
    "    else:\n",
    "        pass\n",
    "\n",
    "# Isolating features and target variable with the pre-processed data\n",
    "X = data_frame[feature_columns] # features\n",
    "y = data_frame.diagnosis # target variable\n",
    "\n",
    "# Shown below is the data set after the non-integer values are encoded as integer values\n",
    "data_frame.head()"
   ]
  },
  {
   "cell_type": "code",
   "execution_count": 109,
   "id": "f5ab7c4c-e43a-4110-a846-37eb4193ba2f",
   "metadata": {
    "scrolled": true
   },
   "outputs": [
    {
     "name": "stdout",
     "output_type": "stream",
     "text": [
      "Training Data Row Count: 96\n",
      "Test Data Row Count: 32\n"
     ]
    }
   ],
   "source": [
    "from sklearn.model_selection import train_test_split\n",
    "\n",
    "# Splitting data into training and test datasets \n",
    "X_train, X_test, y_train, y_test = train_test_split(X, y, test_size=0.25, random_state=0)\n",
    "print(\"Training Data Row Count:\", len(X_train), end='\\n')\n",
    "print(\"Test Data Row Count:\", len(X_test), end='\\n')"
   ]
  },
  {
   "cell_type": "markdown",
   "id": "400fe019-13fa-4e10-8d98-69fbfd57e158",
   "metadata": {},
   "source": [
    "### The model\n",
    "\n",
    "I will be using the Logistic Regression machine learning model to predict the likelihood of a patient to develop diabetes, based on what we know about the features noted above. Logistic Regression is a machine learning algorithm where the probability of a binary outcome is determined by which side of the sigmoid function a data point lies.\n",
    "\n",
    "The logistic regression is shown below as p(x), which represents the probability that an output value for a provided input is equal to 1 (cite). The coefficients &beta; represent the impact of the individual features on the outcome. Each coefficient represents one feature."
   ]
  },
  {
   "attachments": {
    "a00ebf05-89bb-4076-bfc8-6adb410a2363.png": {
     "image/png": "[encoded data removed]"
    }
   },
   "cell_type": "markdown",
   "id": "8b3cf9b1-913a-4312-bfe8-ea7ce28624b5",
   "metadata": {},
   "source": [
    "![sigmoid-function-written-form.png](attachment:a00ebf05-89bb-4076-bfc8-6adb410a2363.png)"
   ]
  },
  {
   "cell_type": "markdown",
   "id": "c00aad65-dff1-4d6e-b654-0de9cda033c3",
   "metadata": {},
   "source": [
    "Here is the sigmoid function plotted on a graph (cite):"
   ]
  },
  {
   "attachments": {
    "504f2bd8-9532-413e-adba-6ac616414fb0.png": {
     "image/png": "[encoded data removed]"
    }
   },
   "cell_type": "markdown",
   "id": "8c845c37-3891-40fd-beeb-c7893478cf30",
   "metadata": {},
   "source": [
    "![sigmoid-function-logistic-regression.png](attachment:504f2bd8-9532-413e-adba-6ac616414fb0.png)"
   ]
  },
  {
   "cell_type": "markdown",
   "id": "fd50a89d-131d-4645-b728-04dbc4122184",
   "metadata": {},
   "source": [
    "In order to make predictions, the logistic regression model must first be trained on the training data extracted above."
   ]
  },
  {
   "cell_type": "code",
   "execution_count": 110,
   "id": "5461a12f-dff0-4df7-a13e-ff21b23e28f2",
   "metadata": {},
   "outputs": [],
   "source": [
    "from sklearn.linear_model import LogisticRegression\n",
    "\n",
    "# Using the indepdent variables, or features (x), and the dependent outcome, or target (y) to\n",
    "# train the logistic regression model.\n",
    "logistic_regression_model = LogisticRegression(max_iter=200).fit(X_train, y_train)"
   ]
  },
  {
   "cell_type": "markdown",
   "id": "00039f65-24e5-47ac-8b99-395be87bbd6f",
   "metadata": {},
   "source": [
    "Before I use the trained model on the test data, I can get a good idea of how much any given feature had an affect on the outcome. By evaluating the coefficients (&beta; in the logistic regression function) in their exponential form, called \"odds ratios\" (cite) I am able to understand which features highly correlated with determining that a patient had a high probability of developing diabetes."
   ]
  },
  {
   "cell_type": "code",
   "execution_count": 111,
   "id": "aa7defd3-d0bc-4119-87af-2dae59694e55",
   "metadata": {},
   "outputs": [
    {
     "data": {
      "text/html": [
       "<div>\n",
       "<style scoped>\n",
       "    .dataframe tbody tr th:only-of-type {\n",
       "        vertical-align: middle;\n",
       "    }\n",
       "\n",
       "    .dataframe tbody tr th {\n",
       "        vertical-align: top;\n",
       "    }\n",
       "\n",
       "    .dataframe thead th {\n",
       "        text-align: right;\n",
       "    }\n",
       "</style>\n",
       "<table border=\"1\" class=\"dataframe\">\n",
       "  <thead>\n",
       "    <tr style=\"text-align: right;\">\n",
       "      <th></th>\n",
       "      <th>Features</th>\n",
       "      <th>Odds Ratios</th>\n",
       "    </tr>\n",
       "  </thead>\n",
       "  <tbody>\n",
       "    <tr>\n",
       "      <th>0</th>\n",
       "      <td>Intercept</td>\n",
       "      <td>1.958943</td>\n",
       "    </tr>\n",
       "    <tr>\n",
       "      <th>1</th>\n",
       "      <td>age</td>\n",
       "      <td>1.075278</td>\n",
       "    </tr>\n",
       "    <tr>\n",
       "      <th>2</th>\n",
       "      <td>gender</td>\n",
       "      <td>0.738887</td>\n",
       "    </tr>\n",
       "    <tr>\n",
       "      <th>3</th>\n",
       "      <td>bmi</td>\n",
       "      <td>0.899659</td>\n",
       "    </tr>\n",
       "    <tr>\n",
       "      <th>4</th>\n",
       "      <td>blood_pressure</td>\n",
       "      <td>0.383702</td>\n",
       "    </tr>\n",
       "    <tr>\n",
       "      <th>5</th>\n",
       "      <td>fasting_blood_sugar</td>\n",
       "      <td>0.983902</td>\n",
       "    </tr>\n",
       "    <tr>\n",
       "      <th>6</th>\n",
       "      <td>hemoglobin_a1c</td>\n",
       "      <td>0.997629</td>\n",
       "    </tr>\n",
       "    <tr>\n",
       "      <th>7</th>\n",
       "      <td>family_history_of_diabetes</td>\n",
       "      <td>0.055234</td>\n",
       "    </tr>\n",
       "    <tr>\n",
       "      <th>8</th>\n",
       "      <td>smoking</td>\n",
       "      <td>4.183549</td>\n",
       "    </tr>\n",
       "    <tr>\n",
       "      <th>9</th>\n",
       "      <td>diet</td>\n",
       "      <td>4.183549</td>\n",
       "    </tr>\n",
       "    <tr>\n",
       "      <th>10</th>\n",
       "      <td>exercise</td>\n",
       "      <td>0.238835</td>\n",
       "    </tr>\n",
       "  </tbody>\n",
       "</table>\n",
       "</div>"
      ],
      "text/plain": [
       "                      Features  Odds Ratios\n",
       "0                    Intercept     1.958943\n",
       "1                          age     1.075278\n",
       "2                       gender     0.738887\n",
       "3                          bmi     0.899659\n",
       "4               blood_pressure     0.383702\n",
       "5          fasting_blood_sugar     0.983902\n",
       "6               hemoglobin_a1c     0.997629\n",
       "7   family_history_of_diabetes     0.055234\n",
       "8                      smoking     4.183549\n",
       "9                         diet     4.183549\n",
       "10                    exercise     0.238835"
      ]
     },
     "execution_count": 111,
     "metadata": {},
     "output_type": "execute_result"
    }
   ],
   "source": [
    "import numpy as np\n",
    "\n",
    "coefficents = {\"Features\": [\"Intercept\"] + feature_columns,\n",
    "              \"Odds Ratios\":np.concatenate(((logistic_regression_model.intercept_,np.exp(logistic_regression_model.coef_[0]))))}\n",
    "pd.DataFrame(coefficents)"
   ]
  },
  {
   "cell_type": "markdown",
   "id": "7f6b61b1-adfb-4650-aaeb-39440a67df4a",
   "metadata": {},
   "source": [
    "The odds ratios above represent a percentage of impact on the probability that a patient eventually developed diabetes. For example, an odds ratio of 2.00 would mean that a feature had an impact on the outcome by 100%, and 1.20 would mean that a feature had 20% impact on an outcome. An odds ratio below 1 demonstrates a feature's very low impact on the outcome.\n",
    "\n",
    "In this case, both whether a patient smoked or had a healthy diet had an impact of 318% on the probability that a patient would develop diabetes. The gender of the patient was a negligible factor; men weren't more or less likely to develop diabetes than women, in the training data.\n",
    "\n",
    "We can observe this trend with the following histogram where:\n",
    "- The `smoking` value is '0' for 'No' and '1' for 'Yes', shown in blue\n",
    "- The `diet` value is '0' for 'Healthy' and '1' for 'Poor', shown in green\n",
    "- The `diagnosis` value is '0' for 'No' and '1' for 'Yes', shown in purple"
   ]
  },
  {
   "cell_type": "code",
   "execution_count": 112,
   "id": "4130fc6d-ed00-41eb-a18b-5bfec81bb94c",
   "metadata": {},
   "outputs": [
    {
     "data": {
      "image/png": "[encoded data removed]",
      "text/plain": [
       "<Figure size 640x480 with 1 Axes>"
      ]
     },
     "metadata": {},
     "output_type": "display_data"
    }
   ],
   "source": [
    "import matplotlib.pyplot as plt\n",
    "\n",
    "_ = plt.hist([data_frame.smoking,data_frame.diet,data_frame.diagnosis],\n",
    "          bins=2, range=(0,1), stacked=True, color = ['blue','green', 'purple'])"
   ]
  },
  {
   "cell_type": "markdown",
   "id": "94938175-398b-48cf-a365-9d7318b6a2ac",
   "metadata": {},
   "source": [
    "### Testing the model\n",
    "\n",
    "Once the logistic regression model is trained, it can be used to make predictions on the test data extracted above."
   ]
  },
  {
   "cell_type": "code",
   "execution_count": 113,
   "id": "326cd997-8654-4141-9cf8-45c59440ad5e",
   "metadata": {},
   "outputs": [
    {
     "name": "stdout",
     "output_type": "stream",
     "text": [
      "Actual: [1, 0, 0, 0, 0, 0, 1, 1, 0, 0, 0, 0, 0, 1, 0, 0, 1, 0, 0, 0, 0, 0, 0, 1, 0, 1, 0, 0, 0, 0, 1, 1]\n",
      "Predictions: [1 0 0 0 0 0 1 0 0 0 0 0 0 1 0 0 1 0 0 0 0 0 0 0 0 1 0 0 0 0 1 1]\n",
      "Accuracy: 0.9375.\n"
     ]
    }
   ],
   "source": [
    "from sklearn import metrics\n",
    "\n",
    "y_prediction = logistic_regression_model.predict(X_test)\n",
    "\n",
    "print(\"Actual:\", list(y_test))\n",
    "print(\"Predictions:\", y_prediction)\n",
    "print(\"Accuracy: {}.\".format(round(metrics.accuracy_score(y_test, y_prediction), 4)))"
   ]
  },
  {
   "cell_type": "markdown",
   "id": "d63abafe-c308-4f30-8afd-3272337ca8ef",
   "metadata": {},
   "source": [
    "The accuracy score for the model's predictions was high, at 0.9375, or 93.75%. An accuracy score of 70% or higher signifies a successful prediction model, so this model successfully predicts the liklihood of a patient to develop diabetes given the patient data outlined here.\n",
    "\n",
    "I can create a confusion matrix in order to get more details about the model's predictions. The model's predictions will be compared to the actual known values of the data set, where '0' indicates a 'No' for a diabetes diagnosis, and '1' indicates 'Yes'. A 'No' prediction is considered a Negative prediction, and a 'Yes' is considered Positive. Where the prediction matched the actual value of the diagnosis, that represents a True prediction, otherwise, the prediction is False. The confusion matrix will consist of four quadrants that will reveal, from left-to-right, the following values: True Negatives, False Positives, False Negatives, and True Positives."
   ]
  },
  {
   "cell_type": "code",
   "execution_count": 114,
   "id": "b336daaf-2e01-4fe4-95a5-5a7dcf7dfafa",
   "metadata": {},
   "outputs": [
    {
     "data": {
      "image/png": "[encoded data removed]",
      "text/plain": [
       "<Figure size 1000x500 with 2 Axes>"
      ]
     },
     "metadata": {},
     "output_type": "display_data"
    }
   ],
   "source": [
    "import matplotlib.pyplot as plt\n",
    "\n",
    "# Creating a confusion matrix\n",
    "figure, axis = plt.subplots(figsize=(10, 5))\n",
    "confusion_matrix = metrics.ConfusionMatrixDisplay.from_predictions(y_test, y_prediction, ax=axis)\n",
    "_ = axis.set_title(\"Logistic Regression Model Predictions for Diabetes On-Set\")"
   ]
  }
 ],
 "metadata": {
  "kernelspec": {
   "display_name": "Python 3 (ipykernel)",
   "language": "python",
   "name": "python3"
  },
  "language_info": {
   "codemirror_mode": {
    "name": "ipython",
    "version": 3
   },
   "file_extension": ".py",
   "mimetype": "text/x-python",
   "name": "python",
   "nbconvert_exporter": "python",
   "pygments_lexer": "ipython3",
   "version": "3.11.5"
  }
 },
 "nbformat": 4,
 "nbformat_minor": 5
}
