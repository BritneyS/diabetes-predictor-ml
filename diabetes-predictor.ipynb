{
 "cells": [
  {
   "cell_type": "markdown",
   "id": "2c466788-6eed-4c81-baf6-e46dffba24b8",
   "metadata": {},
   "source": [
    "# Predicting the development of diabetes using machine learning\n",
    "\n",
    "## Goal\n",
    "\n",
    "My goal is to use sample data to train a model that can predict the probability of the development of diabetes in new patients. The data will be gathered and cleaned, then used to train the model using the supervised learning algorithm: logistic regression.\n",
    "\n",
    "## Project\n",
    "\n",
    "### The data\n",
    "\n",
    "The dataset contains the following features:\n",
    "\n",
    "- Age: The patient's age, in years.\n",
    "- Gender: The patient's gender, male or female.\n",
    "- BMI: The patient's body mass index (BMI), a measure of weight relative to height.\n",
    "- Blood pressure: The patient's blood pressure, in mmHg.\n",
    "- Fasting Blood Sugar: The patient's fasting blood sugar, in mg/dL.\n",
    "- Hemoglobin A1c: The patient's hemoglobin A1c, a measure of blood sugar control over the past 3 months.\n",
    "- Family history of diabetes: Whether the patient has a family history of diabetes.\n",
    "- Smoking: Whether the patient smokes.\n",
    "- Diet: Whether the patient has a poor or healthy diet.\n",
    "- Exercise: Whether the patient exercises regularly.\n",
    "- Diagnosis: The patient's diagnosis, either diabetes or no diabetes.\n"
   ]
  },
  {
   "cell_type": "code",
   "execution_count": null,
   "id": "c148686b-bcfa-45e9-889c-daeb9eaf7f65",
   "metadata": {},
   "outputs": [],
   "source": []
  }
 ],
 "metadata": {
  "kernelspec": {
   "display_name": "Python 3 (ipykernel)",
   "language": "python",
   "name": "python3"
  },
  "language_info": {
   "codemirror_mode": {
    "name": "ipython",
    "version": 3
   },
   "file_extension": ".py",
   "mimetype": "text/x-python",
   "name": "python",
   "nbconvert_exporter": "python",
   "pygments_lexer": "ipython3",
   "version": "3.11.7"
  }
 },
 "nbformat": 4,
 "nbformat_minor": 5
}
